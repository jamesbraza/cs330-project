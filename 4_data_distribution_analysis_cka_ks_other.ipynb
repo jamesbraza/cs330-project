{
  "cells": [
    {
      "cell_type": "markdown",
      "metadata": {
        "id": "CQbWUZVz9Mad"
      },
      "source": []
    },
    {
      "cell_type": "code",
      "execution_count": null,
      "metadata": {
        "colab": {
          "base_uri": "https://localhost:8080/"
        },
        "id": "FuyXLdMD9eNW",
        "outputId": "c0282297-923b-47c4-882a-a9349bd7e82d"
      },
      "outputs": [
        {
          "output_type": "stream",
          "name": "stdout",
          "text": [
            "Mounted at /content/drive\n"
          ]
        }
      ],
      "source": [
        "import pandas as pd\n",
        "import numpy as np\n",
        "from keras.callbacks import TensorBoard\n",
        "import tensorflow as tf\n",
        "\n",
        "import keras\n",
        "from keras import layers\n",
        "import os\n",
        "import cv2\n",
        "import json\n",
        "import glob\n",
        "import cv2\n",
        "import matplotlib.pyplot as plt\n",
        "%matplotlib inline\n",
        "\n",
        "# Load the Drive helper and mount\n",
        "from google.colab import drive\n",
        "\n",
        "# This will prompt for authorization.\n",
        "drive.mount('/content/drive')"
      ]
    },
    {
      "cell_type": "code",
      "execution_count": null,
      "metadata": {
        "colab": {
          "base_uri": "https://localhost:8080/"
        },
        "id": "O0I9PjzXSWDl",
        "outputId": "bc1bf36f-1224-49fc-d5fd-c47eb7093d96"
      },
      "outputs": [
        {
          "output_type": "stream",
          "name": "stdout",
          "text": [
            "(1594, 2352)\n",
            "0.6112457814004826\n"
          ]
        }
      ],
      "source": [
        "#=============use this for dataset comparison\n",
        "X=np.load(\"/content/drive/My Drive/cs330_dataset/fine_tune_x.npy\")\n",
        "X2=np.load(\"/content/drive/My Drive/cs330_dataset/x9.npy\")\n",
        "\n",
        "\n",
        "def suffle_and_split(X,sample=1000):\n",
        "    max_len=X.shape[0]\n",
        "    X_f=X.reshape(X.shape[0],-1)\n",
        "    r=np.random.permutation(max_len)\n",
        "    X_shuffle=X_f[r,:]\n",
        "    X_sample=X_shuffle[0:sample,]\n",
        "    return X_sample\n",
        "\n",
        "X_sample1=suffle_and_split(X,sample=10000)\n",
        "X_sample2=suffle_and_split(X2,sample=10000)\n",
        "print(X_sample2.shape)\n",
        "\n",
        "X_sample1=np.squeeze(X_sample1.reshape(1,-1))\n",
        "X_sample2=np.squeeze(X_sample2.reshape(1,-1))\n",
        "\n",
        "from scipy.stats import skew,kurtosis\n",
        "\n",
        "def matrix(a,b):\n",
        "  a_skew=skew(a, axis=0, bias=True)\n",
        "  b_skew=skew(b, axis=0, bias=True)\n",
        "  a_curtosi=kurtosis(a, axis=0, bias=True)\n",
        "  b_curtosi=kurtosis(b, axis=0, bias=True)\n",
        "  matrix=np.sqrt((np.abs(a_skew)-np.abs(b_skew))**2+(np.abs(a_curtosi)-np.abs(b_curtosi))**2+(np.mean(a)-np.mean(b))**2)\n",
        "  mean=np.sqrt((np.mean(a)-np.mean(b))**2)\n",
        "  return matrix,mean\n",
        "\n",
        "# print(\">>>>target mean\",np.mean(X_sample1))\n",
        "# print(skew(X_sample1, axis=0, bias=True))\n",
        "# print(kurtosis(X_sample1, axis=0, bias=True))\n",
        "\n",
        "# print(\">>>>target mean\",np.mean(X_sample2))\n",
        "# print(skew(X_sample2, axis=0, bias=True))\n",
        "# print(kurtosis(X_sample2, axis=0, bias=True))\n",
        "\n",
        "matri,mean=matrix(X_sample1,X_sample2)\n",
        "print(matri)"
      ]
    },
    {
      "cell_type": "code",
      "source": [
        "#==========ks statistics\n",
        "from scipy.stats import ks_2samp\n",
        "from sklearn.metrics import mutual_info_score\n",
        "  \n",
        "\n",
        "\n",
        "kl2=mutual_info_score(X_sample1, X_sample2)\n",
        "print(kl2)\n",
        "\n",
        "#========ks statstics\n",
        "ks_2samp(X_sample1, X_sample2,alternative='two-sided')\n"
      ],
      "metadata": {
        "colab": {
          "base_uri": "https://localhost:8080/"
        },
        "id": "CQ4cingj4QBz",
        "outputId": "f663f5c8-5601-4816-fb6e-72f65bcb0647"
      },
      "execution_count": null,
      "outputs": [
        {
          "output_type": "stream",
          "name": "stdout",
          "text": [
            "0.16381403023868646\n"
          ]
        },
        {
          "output_type": "stream",
          "name": "stderr",
          "text": [
            "/usr/local/lib/python3.7/dist-packages/sklearn/metrics/cluster/_supervised.py:65: UserWarning: Clustering metrics expects discrete values but received continuous values for label, and continuous values for target\n",
            "  warnings.warn(msg, UserWarning)\n"
          ]
        },
        {
          "output_type": "execute_result",
          "data": {
            "text/plain": [
              "KstestResult(statistic=0.14805697278911567, pvalue=0.0)"
            ]
          },
          "metadata": {},
          "execution_count": 28
        }
      ]
    },
    {
      "cell_type": "code",
      "execution_count": null,
      "metadata": {
        "colab": {
          "base_uri": "https://localhost:8080/",
          "height": 893
        },
        "id": "MItEb5NzTi6E",
        "outputId": "52b1a7b5-9234-4028-9062-1466a3af2e6b"
      },
      "outputs": [
        {
          "output_type": "display_data",
          "data": {
            "text/plain": [
              "<Figure size 1296x1080 with 1 Axes>"
            ],
            "image/png": "[encoded data removed]"
          },
          "metadata": {
            "needs_background": "light"
          }
        }
      ],
      "source": [
        "#==============use this to plot grpah for dataset\n",
        "plt.figure(figsize=(18,15))\n",
        "bins = np.linspace(0, 1, 50)\n",
        "# plotting first histogram\n",
        "plt.hist(X_sample1,bins, label='Target fine tune dataset', alpha=.5,color=\"gray\")\n",
        " \n",
        "# plotting second histogram\n",
        "plt.hist(X_sample2,bins, label='Relavant', alpha=0.5,color=\"red\")\n",
        "plt.legend()\n",
        "plt.title('Histogram of TL dataset VS Fine-tune dataset',\n",
        "          fontweight =\"bold\")\n",
        "plt.xlabel('normalized pixel')\n",
        "plt.ylabel('counts')\n",
        " \n",
        "# Showing t\n",
        "plt.show()\n"
      ]
    },
    {
      "cell_type": "code",
      "execution_count": null,
      "metadata": {
        "colab": {
          "base_uri": "https://localhost:8080/"
        },
        "id": "mZbQms-91pkz",
        "outputId": "113b27d5-a355-4951-f417-19f2ea8ea767"
      },
      "outputs": [
        {
          "name": "stdout",
          "output_type": "stream",
          "text": [
            "0.43857405\n",
            "0.19299795\n",
            "0.49335572\n",
            "0.21240525\n",
            ">>>>loc_diff -0.054781675\n",
            ">>>>scale_diff -0.019407302\n"
          ]
        }
      ],
      "source": [
        "from scipy import stats\n",
        "loc_param, scale_param = stats.norm.fit(X_sample1)\n",
        "print(loc_param)\n",
        "print(scale_param)\n",
        "loc_param2, scale_param2 = stats.norm.fit(X_sample2)\n",
        "print(loc_param2)\n",
        "print(scale_param2)\n",
        "\n",
        "print(\">>>>loc_diff\",loc_param-loc_param2)\n",
        "print(\">>>>scale_diff\",scale_param-scale_param2)"
      ]
    },
    {
      "cell_type": "code",
      "execution_count": null,
      "metadata": {
        "colab": {
          "base_uri": "https://localhost:8080/"
        },
        "id": "dE0JYfTGyfg9",
        "outputId": "aa4fb6ee-1ca1-4b75-ba04-3701dccd510f"
      },
      "outputs": [
        {
          "output_type": "stream",
          "name": "stdout",
          "text": [
            "ks statistics 11.88729917131539\n"
          ]
        },
        {
          "output_type": "execute_result",
          "data": {
            "text/plain": [
              "KstestResult(statistic=0.06925455729166663, pvalue=6.436604669383864e-308)"
            ]
          },
          "metadata": {},
          "execution_count": 114
        }
      ],
      "source": [
        "#==================Use this part for weight matrix\n",
        "\n",
        "class Bas_Conv2D(tf.keras.Model):\n",
        "    def __init__(self, filters, kernel_size, strides,padding):\n",
        "        super().__init__()\n",
        "        self.conv = tf.keras.layers.Conv2D(filters=filters,\n",
        "                                           kernel_size=kernel_size,\n",
        "                                           strides=strides,\n",
        "                                           padding=padding)\n",
        "        self.bn = tf.keras.layers.BatchNormalization()\n",
        "        self.relu = tf.keras.layers.ReLU()\n",
        "\n",
        "    def call(self, inputs):\n",
        "        output = self.conv(inputs)\n",
        "        output = self.bn(output)\n",
        "        output = self.relu(output)\n",
        "\n",
        "        return output\n",
        "\n",
        "\n",
        "class Model_transfer(tf.keras.Model):\n",
        "    def __init__(self):\n",
        "        super().__init__()\n",
        "\n",
        "        self.layer1 = Bas_Conv2D(filters=64,\n",
        "                                 kernel_size=(3, 3),\n",
        "                                 strides=2,padding='valid')\n",
        "\n",
        "        self.layer2 = Bas_Conv2D(filters=128,\n",
        "                                 kernel_size=(3, 3),\n",
        "                                 strides=2,padding='valid')\n",
        "\n",
        "        self.layer3 = Bas_Conv2D(filters=128,\n",
        "                                 kernel_size=(3, 3),\n",
        "                                 strides=2,padding='valid')\n",
        "\n",
        "        self.pooling = tf.keras.layers.MaxPooling2D(pool_size=(2, 2))\n",
        "\n",
        "        self.flatten = tf.keras.layers.Flatten()\n",
        "        \n",
        "        self.dropout = tf.keras.layers.Dropout(rate=0.3)\n",
        "\n",
        "        self.dense = tf.keras.layers.Dense(units=10, activation=\"softmax\")\n",
        "\n",
        "    def call(self, inputs,training=None):\n",
        "\n",
        "        x = self.layer1(inputs)\n",
        "        x = self.layer2(x)\n",
        "        x = self.layer3(x)\n",
        "        x = self.pooling(x)\n",
        "        x = self.flatten(x)\n",
        "        x = self.dropout(x, training=training)\n",
        "        output=self.dense(x)\n",
        "        return output\n",
        "\n",
        "\n",
        "def get_weight_layer(fine_tune_weights):\n",
        "    fine_tune_weights=fine_tune_weights\n",
        "\n",
        "\n",
        "    learning_rate=0.001\n",
        "    base_model=Model_transfer()\n",
        "    checkpoint = tf.train.Checkpoint(base_model)\n",
        "    checkpoint.restore(fine_tune_weights).expect_partial()\n",
        "\n",
        "\n",
        "    opt=tf.keras.optimizers.Adam(learning_rate=learning_rate)\n",
        "    base_model.compile(optimizer=opt,loss=\"categorical_crossentropy\",metrics=[\"categorical_accuracy\"])\n",
        "    base_model.build(input_shape=(None,28,28,3))\n",
        "\n",
        "    for layer in base_model.layers[2:3]:\n",
        "        # print(layer.name)\n",
        "        weights=layer.get_weights()[0]\n",
        "        weigth_np=np.array(weights,dtype=object)\n",
        "        weigth_np_b=np.swapaxes(weigth_np,3,0)\n",
        "        weigth_np_r=np.reshape(weigth_np_b,(weigth_np_b.shape[0],weigth_np_b.shape[1]*weigth_np_b.shape[2]*weigth_np_b.shape[3]))\n",
        "\n",
        "    return weigth_np_r\n",
        "\n",
        "path1=\"/content/drive/My Drive/cs330_dataset/model2_tl\"\n",
        "path2=\"/content/drive/My Drive/cs330_dataset/model2\"\n",
        "\n",
        "weight_model1=get_weight_layer(path1)\n",
        "weight_model_fine=get_weight_layer(path2)\n",
        "\n",
        "weight1_mean=np.mean(np.squeeze(weight_model1))\n",
        "weight_fine_mean=np.mean(np.squeeze(weight_model_fine))\n",
        "\n",
        "weight_tl_var=np.var(np.squeeze(weight_model1))\n",
        "weight_fine_var=np.var(np.squeeze(weight_model_fine))\n",
        "\n",
        "\n",
        "X_tune=np.squeeze(weight_model_fine.reshape(1,-1))\n",
        "X_tl=np.squeeze(weight_model1.reshape(1,-1))\n",
        "\n",
        "#==========ks statistics\n",
        "from scipy.stats import ks_2samp\n",
        "from sklearn.metrics import mutual_info_score\n",
        "\n",
        "kl2=mutual_info_score(X_tune, X_tl)\n",
        "print(\"ks statistics\",kl2)\n",
        "\n",
        "#========ks statstics\n",
        "ks_2samp(X_tune, X_tl,alternative='two-sided')"
      ]
    },
    {
      "cell_type": "code",
      "source": [
        "#=============for weight matrix\n",
        "bins = np.linspace(-0.1, 0.1, 100)\n",
        "# plotting first histogram\n",
        "plt.hist(X_tl,bins,label='Transfer Model weight', alpha=0.5)\n",
        "plt.hist(X_tune,bins, label='Fine-tune weight', alpha=0.3)\n",
        "plt.legend()\n",
        "plt.title('Histogram of trained weights - NOT Relavant',\n",
        "          fontweight =\"bold\")\n",
        "plt.xlabel('weights matrix')\n",
        "plt.ylabel('counts')\n",
        " \n",
        "# Showing t\n",
        "plt.show()"
      ],
      "metadata": {
        "id": "ZVZP0jQKAvD3"
      },
      "execution_count": null,
      "outputs": []
    },
    {
      "cell_type": "code",
      "execution_count": null,
      "metadata": {
        "colab": {
          "base_uri": "https://localhost:8080/",
          "height": 252
        },
        "id": "A70nrv0r36CR",
        "outputId": "f6e6fbc8-958a-419a-8235-74cd847d44e1"
      },
      "outputs": [
        {
          "output_type": "display_data",
          "data": {
            "text/plain": [
              "<Figure size 432x288 with 64 Axes>"
            ],
            "image/png": "[encoded data removed]"
          },
          "metadata": {}
        }
      ],
      "source": [
        "#==============featrue maps\n",
        "def get_model_feature(path_weight,data_path,sample):\n",
        "  class Bas_Conv2D(tf.keras.Model):\n",
        "      def __init__(self, filters, kernel_size, strides,padding):\n",
        "          super().__init__()\n",
        "          self.conv = tf.keras.layers.Conv2D(filters=filters,\n",
        "                                            kernel_size=kernel_size,\n",
        "                                            strides=strides,\n",
        "                                            padding=padding)\n",
        "          self.bn = tf.keras.layers.BatchNormalization()\n",
        "          self.relu = tf.keras.layers.ReLU()\n",
        "\n",
        "      def call(self, inputs):\n",
        "          output = self.conv(inputs)\n",
        "          output = self.bn(output)\n",
        "          output = self.relu(output)\n",
        "\n",
        "          return output\n",
        "\n",
        "\n",
        "  class Model_transfer(tf.keras.Model):\n",
        "      def __init__(self):\n",
        "          super().__init__()\n",
        "\n",
        "          self.layer1 = Bas_Conv2D(filters=64,\n",
        "                                  kernel_size=(3, 3),\n",
        "                                  strides=2,padding='valid')\n",
        "\n",
        "          self.layer2 = Bas_Conv2D(filters=128,\n",
        "                                  kernel_size=(3, 3),\n",
        "                                  strides=2,padding='valid')\n",
        "\n",
        "          self.layer3 = Bas_Conv2D(filters=128,\n",
        "                                  kernel_size=(3, 3),\n",
        "                                  strides=2,padding='valid')\n",
        "\n",
        "          self.pooling = tf.keras.layers.MaxPooling2D(pool_size=(2, 2))\n",
        "\n",
        "          self.flatten = tf.keras.layers.Flatten()\n",
        "          \n",
        "          self.dropout = tf.keras.layers.Dropout(rate=0.3)\n",
        "\n",
        "          self.dense = tf.keras.layers.Dense(units=10, activation=\"softmax\")\n",
        "\n",
        "      def call(self, inputs,training=None):\n",
        "\n",
        "          x = self.layer1(inputs)\n",
        "          x = self.layer2(x)\n",
        "          x = self.layer3(x)\n",
        "          x = self.pooling(x)\n",
        "          x = self.flatten(x)\n",
        "          x = self.dropout(x, training=training)\n",
        "          output=self.dense(x)\n",
        "          return output\n",
        "\n",
        "  learning_rate=0.001\n",
        "  base_model=Model_transfer()\n",
        "  checkpoint = tf.train.Checkpoint(base_model)\n",
        "  checkpoint.restore(path_weight).expect_partial()\n",
        "\n",
        "\n",
        "  opt=tf.keras.optimizers.Adam(learning_rate=learning_rate)\n",
        "  base_model.compile(optimizer=opt,loss=\"categorical_crossentropy\",metrics=[\"categorical_accuracy\"])\n",
        "  base_model.build(input_shape=(None,28,28,3))\n",
        "\n",
        "\n",
        "  def suffle_and_split(X,sample=1):\n",
        "      max_len=X.shape[0]\n",
        "      r=np.random.permutation(max_len)\n",
        "      X_shuffle=X[r,:]\n",
        "      X_sample=X_shuffle[0:sample,]\n",
        "      return X_sample\n",
        "\n",
        "  #========get the dataset \n",
        "  X=np.load(data_path)\n",
        "  X_sample1=suffle_and_split(X,sample=sample)\n",
        "\n",
        "  for layer in base_model.layers[0:1]:\n",
        "    new_features=layer.predict(X_sample1)\n",
        "  for layer in base_model.layers[1:2]:\n",
        "    new_features2=layer.predict(new_features)\n",
        "  for layer in base_model.layers[2:3]:\n",
        "    new_features3=layer.predict(new_features2)\n",
        "  print(new_features3.shape)\n",
        "\n",
        "  return new_features3\n",
        "\n",
        "\n",
        "#Visualize the Feature Maps\n",
        "\n",
        "for i in range(64):\n",
        "    feature_img = new_features[0, :, :, i]\n",
        "    ax = plt.subplot(8, 8, i+1)\n",
        "    ax.set_xticks([])\n",
        "    ax.set_yticks([])\n",
        "    plt.imshow(feature_img)\n",
        "plt.show()"
      ]
    },
    {
      "cell_type": "code",
      "execution_count": null,
      "metadata": {
        "colab": {
          "base_uri": "https://localhost:8080/"
        },
        "id": "9E6NuoJ5nzxr",
        "outputId": "5543675c-9d87-49c7-fbd7-a158e8a1a8e8"
      },
      "outputs": [
        {
          "output_type": "stream",
          "name": "stdout",
          "text": [
            "4/4 [==============================] - 0s 2ms/step\n",
            "4/4 [==============================] - 0s 2ms/step\n",
            "4/4 [==============================] - 0s 2ms/step\n",
            "(100, 2, 2, 128)\n",
            "4/4 [==============================] - 0s 2ms/step\n",
            "4/4 [==============================] - 0s 2ms/step\n",
            "4/4 [==============================] - 0s 2ms/step\n",
            "(100, 2, 2, 128)\n",
            "yoru L2 distance  10.209739\n",
            "ks statistics 2.85487749502471\n"
          ]
        },
        {
          "output_type": "stream",
          "name": "stderr",
          "text": [
            "/usr/local/lib/python3.7/dist-packages/sklearn/metrics/cluster/_supervised.py:65: UserWarning: Clustering metrics expects discrete values but received continuous values for label, and continuous values for target\n",
            "  warnings.warn(msg, UserWarning)\n"
          ]
        },
        {
          "output_type": "execute_result",
          "data": {
            "text/plain": [
              "KstestResult(statistic=0.04839843749999995, pvalue=1.4955439036320595e-52)"
            ]
          },
          "metadata": {},
          "execution_count": 136
        }
      ],
      "source": [
        "from sklearn.metrics import r2_score\n",
        "from sklearn import datasets, linear_model\n",
        "from sklearn.metrics import mean_squared_error, r2_score\n",
        "from numpy.linalg import norm\n",
        "from sklearn.decomposition import PCA\n",
        "import math\n",
        "\n",
        "fine_tune_weights=\"/content/drive/My Drive/cs330_dataset/model5\"\n",
        "tl_wegith=\"/content/drive/My Drive/cs330_dataset/model5_tl\"\n",
        "data=\"/content/drive/My Drive/cs330_dataset/fine_tune_x.npy\"\n",
        "\n",
        "X_tune=get_model_feature(fine_tune_weights,data,sample=100)\n",
        "X_tl=get_model_feature(tl_wegith,data,sample=100)\n",
        "\n",
        "X_tune_r=np.squeeze(X_tune.reshape(1,-1))\n",
        "X_tl_r=np.squeeze(X_tl.reshape(1,-1))\n",
        "\n",
        "distance=norm(X_tune_r-X_tl_r)\n",
        "print(\"yoru L2 distance \",distance)\n",
        "\n",
        "#==========ks statistics\n",
        "from scipy.stats import ks_2samp\n",
        "from sklearn.metrics import mutual_info_score\n",
        "\n",
        "kl2=mutual_info_score(X_tune_r, X_tl_r)\n",
        "print(\"ks statistics\",kl2)\n",
        "\n",
        "#========ks statstics\n",
        "#ks_2samp(X_tune, X_tl,alternative='two-sided')"
      ]
    },
    {
      "cell_type": "code",
      "source": [
        "#===============official implement\n",
        "import numpy as np\n",
        "\n",
        "def gram_linear(x):\n",
        "  \"\"\"Compute Gram (kernel) matrix for a linear kernel.\n",
        "\n",
        "  Args:\n",
        "    x: A num_examples x num_features matrix of features.\n",
        "\n",
        "  Returns:\n",
        "    A num_examples x num_examples Gram matrix of examples.\n",
        "  \"\"\"\n",
        "  return x.dot(x.T)\n",
        "\n",
        "\n",
        "def gram_rbf(x, threshold=1.0):\n",
        "  \"\"\"Compute Gram (kernel) matrix for an RBF kernel.\n",
        "\n",
        "  Args:\n",
        "    x: A num_examples x num_features matrix of features.\n",
        "    threshold: Fraction of median Euclidean distance to use as RBF kernel\n",
        "      bandwidth. (This is the heuristic we use in the paper. There are other\n",
        "      possible ways to set the bandwidth; we didn't try them.)\n",
        "\n",
        "  Returns:\n",
        "    A num_examples x num_examples Gram matrix of examples.\n",
        "  \"\"\"\n",
        "  dot_products = x.dot(x.T)\n",
        "  sq_norms = np.diag(dot_products)\n",
        "  sq_distances = -2 * dot_products + sq_norms[:, None] + sq_norms[None, :]\n",
        "  sq_median_distance = np.median(sq_distances)\n",
        "  return np.exp(-sq_distances / (2 * threshold ** 2 * sq_median_distance))\n",
        "\n",
        "\n",
        "def center_gram(gram, unbiased=False):\n",
        "  \"\"\"Center a symmetric Gram matrix.\n",
        "\n",
        "  This is equvialent to centering the (possibly infinite-dimensional) features\n",
        "  induced by the kernel before computing the Gram matrix.\n",
        "\n",
        "  Args:\n",
        "    gram: A num_examples x num_examples symmetric matrix.\n",
        "    unbiased: Whether to adjust the Gram matrix in order to compute an unbiased\n",
        "      estimate of HSIC. Note that this estimator may be negative.\n",
        "\n",
        "  Returns:\n",
        "    A symmetric matrix with centered columns and rows.\n",
        "  \"\"\"\n",
        "  if not np.allclose(gram, gram.T):\n",
        "    raise ValueError('Input must be a symmetric matrix.')\n",
        "  gram = gram.copy()\n",
        "\n",
        "  if unbiased:\n",
        "    # This formulation of the U-statistic, from Szekely, G. J., & Rizzo, M.\n",
        "    # L. (2014). Partial distance correlation with methods for dissimilarities.\n",
        "    # The Annals of Statistics, 42(6), 2382-2412, seems to be more numerically\n",
        "    # stable than the alternative from Song et al. (2007).\n",
        "    n = gram.shape[0]\n",
        "    np.fill_diagonal(gram, 0)\n",
        "    means = np.sum(gram, 0, dtype=np.float64) / (n - 2)\n",
        "    means -= np.sum(means) / (2 * (n - 1))\n",
        "    gram -= means[:, None]\n",
        "    gram -= means[None, :]\n",
        "    np.fill_diagonal(gram, 0)\n",
        "  else:\n",
        "    means = np.mean(gram, 0, dtype=np.float64)\n",
        "    means -= np.mean(means) / 2\n",
        "    gram -= means[:, None]\n",
        "    gram -= means[None, :]\n",
        "\n",
        "  return gram\n",
        "\n",
        "\n",
        "def cka(gram_x, gram_y, debiased=False):\n",
        "  \"\"\"Compute CKA.\n",
        "\n",
        "  Args:\n",
        "    gram_x: A num_examples x num_examples Gram matrix.\n",
        "    gram_y: A num_examples x num_examples Gram matrix.\n",
        "    debiased: Use unbiased estimator of HSIC. CKA may still be biased.\n",
        "\n",
        "  Returns:\n",
        "    The value of CKA between X and Y.\n",
        "  \"\"\"\n",
        "  gram_x = center_gram(gram_x, unbiased=debiased)\n",
        "  gram_y = center_gram(gram_y, unbiased=debiased)\n",
        "\n",
        "  # Note: To obtain HSIC, this should be divided by (n-1)**2 (biased variant) or\n",
        "  # n*(n-3) (unbiased variant), but this cancels for CKA.\n",
        "  scaled_hsic = gram_x.ravel().dot(gram_y.ravel())\n",
        "\n",
        "  normalization_x = np.linalg.norm(gram_x)\n",
        "  normalization_y = np.linalg.norm(gram_y)\n",
        "  return scaled_hsic / (normalization_x * normalization_y)\n",
        "\n",
        "\n",
        "def _debiased_dot_product_similarity_helper(\n",
        "    xty, sum_squared_rows_x, sum_squared_rows_y, squared_norm_x, squared_norm_y,\n",
        "    n):\n",
        "  \"\"\"Helper for computing debiased dot product similarity (i.e. linear HSIC).\"\"\"\n",
        "  # This formula can be derived by manipulating the unbiased estimator from\n",
        "  # Song et al. (2007).\n",
        "  return (\n",
        "      xty - n / (n - 2.) * sum_squared_rows_x.dot(sum_squared_rows_y)\n",
        "      + squared_norm_x * squared_norm_y / ((n - 1) * (n - 2)))\n",
        "\n",
        "\n",
        "def feature_space_linear_cka(features_x, features_y, debiased=False):\n",
        "  \"\"\"Compute CKA with a linear kernel, in feature space.\n",
        "\n",
        "  This is typically faster than computing the Gram matrix when there are fewer\n",
        "  features than examples.\n",
        "\n",
        "  Args:\n",
        "    features_x: A num_examples x num_features matrix of features.\n",
        "    features_y: A num_examples x num_features matrix of features.\n",
        "    debiased: Use unbiased estimator of dot product similarity. CKA may still be\n",
        "      biased. Note that this estimator may be negative.\n",
        "\n",
        "  Returns:\n",
        "    The value of CKA between X and Y.\n",
        "  \"\"\"\n",
        "  features_x = features_x - np.mean(features_x, 0, keepdims=True)\n",
        "  features_y = features_y - np.mean(features_y, 0, keepdims=True)\n",
        "\n",
        "  dot_product_similarity = np.linalg.norm(features_x.T.dot(features_y)) ** 2\n",
        "  normalization_x = np.linalg.norm(features_x.T.dot(features_x))\n",
        "  normalization_y = np.linalg.norm(features_y.T.dot(features_y))\n",
        "\n",
        "  if debiased:\n",
        "    n = features_x.shape[0]\n",
        "    # Equivalent to np.sum(features_x ** 2, 1) but avoids an intermediate array.\n",
        "    sum_squared_rows_x = np.einsum('ij,ij->i', features_x, features_x)\n",
        "    sum_squared_rows_y = np.einsum('ij,ij->i', features_y, features_y)\n",
        "    squared_norm_x = np.sum(sum_squared_rows_x)\n",
        "    squared_norm_y = np.sum(sum_squared_rows_y)\n",
        "\n",
        "    dot_product_similarity = _debiased_dot_product_similarity_helper(\n",
        "        dot_product_similarity, sum_squared_rows_x, sum_squared_rows_y,\n",
        "        squared_norm_x, squared_norm_y, n)\n",
        "    normalization_x = np.sqrt(_debiased_dot_product_similarity_helper(\n",
        "        normalization_x ** 2, sum_squared_rows_x, sum_squared_rows_x,\n",
        "        squared_norm_x, squared_norm_x, n))\n",
        "    normalization_y = np.sqrt(_debiased_dot_product_similarity_helper(\n",
        "        normalization_y ** 2, sum_squared_rows_y, sum_squared_rows_y,\n",
        "        squared_norm_y, squared_norm_y, n))\n",
        "\n",
        "  return dot_product_similarity / (normalization_x * normalization_y)\n",
        "\n",
        "\n",
        "\n",
        "#cka_from_examples = cka(gram_linear(X_r), gram_linear(Y_r))\n",
        "#cka_from_features = feature_space_linear_cka(X_r, Y_r)\n",
        "\n",
        "#print('Linear CKA from Examples: {:.5f}'.format(cka_from_examples))\n",
        "#print('Linear CKA from Features: {:.5f}'.format(cka_from_features))\n",
        "#np.testing.assert_almost_equal(cka_from_examples, cka_from_features)\n",
        "\n",
        "def cca(features_x, features_y):\n",
        "  \"\"\"Compute the mean squared CCA correlation (R^2_{CCA}).\n",
        "\n",
        "  Args:\n",
        "    features_x: A num_examples x num_features matrix of features.\n",
        "    features_y: A num_examples x num_features matrix of features.\n",
        "\n",
        "  Returns:\n",
        "    The mean squared CCA correlations between X and Y.\n",
        "  \"\"\"\n",
        "  qx, _ = np.linalg.qr(features_x)  # Or use SVD with full_matrices=False.\n",
        "  qy, _ = np.linalg.qr(features_y)\n",
        "  return np.linalg.norm(qx.T.dot(qy)) ** 2 / min(\n",
        "      features_x.shape[1], features_y.shape[1])\n",
        "\n",
        "#fine_tune_weights=\"/content/drive/My Drive/cs330_dataset/model1\"\n",
        "tl_wegith=\"/content/drive/My Drive/cs330_dataset/model5_tl\"\n",
        "data=\"/content/drive/My Drive/cs330_dataset/fine_tune_x.npy\"\n",
        "data_tl=\"/content/drive/My Drive/cs330_dataset/x5.npy\"\n",
        "\n",
        "X_tune=get_model_feature(tl_wegith,data,sample=1500)\n",
        "X_tl=get_model_feature(tl_wegith,data_tl,sample=1500)\n",
        "\n",
        "X_tune_r=X_tune.reshape(1500,-1)\n",
        "X_tl=X_tl.reshape(1500,-1)\n",
        "\n",
        "cca_=cca(X_tune_r, X_tl)\n",
        "print(\"your cca\",cca_)\n",
        "\n",
        "cka_from_examples = cka(gram_linear(X_tune_r), gram_linear(X_tl))\n",
        "print('Linear CKA from Examples: {:.5f}'.format(cka_from_examples))\n",
        "#print('Linear CKA from Features: {:.5f}'.format(cka_from_features))"
      ],
      "metadata": {
        "colab": {
          "base_uri": "https://localhost:8080/"
        },
        "id": "O43qLeHBGTe0",
        "outputId": "6d5729e9-3e51-4624-d56b-2e54af771b1f"
      },
      "execution_count": null,
      "outputs": [
        {
          "output_type": "stream",
          "name": "stdout",
          "text": [
            "47/47 [==============================] - 0s 1ms/step\n",
            "47/47 [==============================] - 0s 2ms/step\n",
            "47/47 [==============================] - 0s 1ms/step\n",
            "(1500, 2, 2, 128)\n",
            "47/47 [==============================] - 0s 1ms/step\n",
            "47/47 [==============================] - 0s 2ms/step\n",
            "47/47 [==============================] - 0s 1ms/step\n",
            "(1500, 2, 2, 128)\n",
            "your cca 0.34151994089927484\n",
            "Linear CKA from Examples: 0.00628\n"
          ]
        }
      ]
    },
    {
      "cell_type": "markdown",
      "metadata": {
        "id": "mgvfEWYAVCD-"
      },
      "source": []
    }
  ],
  "metadata": {
    "accelerator": "GPU",
    "colab": {
      "machine_shape": "hm",
      "provenance": []
    },
    "kernelspec": {
      "display_name": "Python 3",
      "name": "python3"
    },
    "language_info": {
      "name": "python"
    }
  },
  "nbformat": 4,
  "nbformat_minor": 0
}